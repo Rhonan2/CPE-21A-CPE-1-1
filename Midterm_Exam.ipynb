{
  "nbformat": 4,
  "nbformat_minor": 0,
  "metadata": {
    "colab": {
      "name": "Midterm Exam.ipynb",
      "provenance": [],
      "authorship_tag": "ABX9TyOfRSvfH9FdsBYalBrGIidD",
      "include_colab_link": true
    },
    "kernelspec": {
      "name": "python3",
      "display_name": "Python 3"
    },
    "language_info": {
      "name": "python"
    }
  },
  "cells": [
    {
      "cell_type": "markdown",
      "metadata": {
        "id": "view-in-github",
        "colab_type": "text"
      },
      "source": [
        "<a href=\"https://colab.research.google.com/github/Rhonan2/CPE-21A-CPE-1-1/blob/main/Midterm_Exam.ipynb\" target=\"_parent\"><img src=\"https://colab.research.google.com/assets/colab-badge.svg\" alt=\"Open In Colab\"/></a>"
      ]
    },
    {
      "cell_type": "code",
      "metadata": {
        "colab": {
          "base_uri": "https://localhost:8080/"
        },
        "id": "OHMclJUEifWV",
        "outputId": "0bd1150a-a415-4189-f677-88e625a0a1ee"
      },
      "source": [
        "#PROBLEM STATEMENT 1. Provide your necessary information below using python codes.\n",
        "a = \"Rhonan Richmond D. Bangay\"\n",
        "b = \"202101447\"\n",
        "c = \"20\"\n",
        "d = \"October 12, 2001\"\n",
        "e = \"Blk 4, Lot 2, Villa Corazon Subd, Mataas na Lupa, Indang, Cavite\"\n",
        "f = \"Bachelor of Science in Computer Engineering\"\n",
        "g = \"93\"\n",
        "print(\"Full Name: \" + a + \"\\nStudent Number: \" + b + \"\\nAge: \" + c + \"\\nBirthday: \" + d + \"\\nAddress: \" + e + \"\\nCourse: \"+ f + \"\\nLast Sem GWA: \" + g )"
      ],
      "execution_count": 7,
      "outputs": [
        {
          "output_type": "stream",
          "name": "stdout",
          "text": [
            "Full Name: Rhonan Richmond D. Bangay\n",
            "Student Number: 202101447\n",
            "Age: 20\n",
            "Birthday: October 12, 2001\n",
            "Address: Blk 4, Lot 2, Villa Corazon Subd, Mataas na Lupa, Indang, Cavite\n",
            "Course: Bachelor of Science in Computer Engineering\n",
            "Last Sem GWA: 93\n"
          ]
        }
      ]
    },
    {
      "cell_type": "code",
      "metadata": {
        "colab": {
          "base_uri": "https://localhost:8080/"
        },
        "id": "2PEOlXuRnHh4",
        "outputId": "55b13086-436f-496d-d776-36526d3bc615"
      },
      "source": [
        "#PROBLEM STATEMENT 2. \n",
        "#Suppose the numeric variable n has value 4 and the string variable answ has value “Y”. Determine whether each of the following conditions is true or false.\n",
        "n = 4\n",
        "answ = \"Y\"\n",
        "print(\"a = \", (2<n) and (n<6))                        #a\n",
        "print(\"b = \", (2<n) or (n == 6))                      #b\n",
        "print(\"c = \", (not 2<n) or (n == 6))                  #c\n",
        "print(\"d = \", not n <6)                               #d\n",
        "print(\"e = \", (answ==\"Y\") or (answ==\"y\"))             #e\n",
        "print(\"f = \", (answ==\"y\") and (answ==\"y\"))            #f\n",
        "print(\"g = \", not answ==\"y\")                          #g\n",
        "print(\"h = \", (2<n) and (n== 5+ 1) or (answ==\"No\"))   #h\n",
        "print(\"i = \", (n==2) and (n==7) or (answ == \"y\"))     #i\n",
        "print(\"j = \", ((n==2) and (n == 7)) or (answ == \"Y\")) #j"
      ],
      "execution_count": 40,
      "outputs": [
        {
          "output_type": "stream",
          "name": "stdout",
          "text": [
            "a =  True\n",
            "b =  True\n",
            "c =  False\n",
            "d =  False\n",
            "e =  True\n",
            "f =  False\n",
            "g =  True\n",
            "h =  False\n",
            "i =  False\n",
            "j =  True\n"
          ]
        }
      ]
    },
    {
      "cell_type": "code",
      "metadata": {
        "colab": {
          "base_uri": "https://localhost:8080/"
        },
        "id": "5ZQJd1lLvqkX",
        "outputId": "4a0a1df6-6ab6-472d-94f9-7c15fad11bf9"
      },
      "source": [
        "#PROBLEM STATEMENT 3. Write a Python program with the statements that computes and reports the results of each of the following arithmetic expressions. \n",
        "x = 2\n",
        "y = -3\n",
        "w = 7\n",
        "z = -10\n",
        "print(\"a =\",x/y\t)           #a\n",
        "print(\"b = \",\tw/y/x\t)       #b\n",
        "print(\"c = \", z/y%x)        #c\n",
        "print(\"d = \", \tx%-y*w)     #d\n",
        "print(\"e = \",x%y)           #e\n",
        "print(\"f = \",  z%w-y/x*5+5) #f\n",
        "print(\"g = \", 9-x%(2+y))    #g\n",
        "print(\"h = \", z//w)         #h\n",
        "print(\"i = \", (2+y)**2)     #i\n",
        "print(\"j = \", w/x*2)        #j"
      ],
      "execution_count": 43,
      "outputs": [
        {
          "output_type": "stream",
          "name": "stdout",
          "text": [
            "a = -0.6666666666666666\n",
            "b =  -1.1666666666666667\n",
            "c =  1.3333333333333335\n",
            "d =  14\n",
            "e =  -1\n",
            "f =  16.5\n",
            "g =  9\n",
            "h =  -2\n",
            "i =  1\n",
            "j =  7.0\n"
          ]
        }
      ]
    }
  ]
}