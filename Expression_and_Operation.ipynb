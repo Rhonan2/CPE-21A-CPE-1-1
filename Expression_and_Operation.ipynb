{
  "nbformat": 4,
  "nbformat_minor": 0,
  "metadata": {
    "colab": {
      "name": "Expression and Operation.ipynb",
      "provenance": [],
      "authorship_tag": "ABX9TyPqulp2gR+SAcDqqL0lOTTt",
      "include_colab_link": true
    },
    "kernelspec": {
      "name": "python3",
      "display_name": "Python 3"
    },
    "language_info": {
      "name": "python"
    }
  },
  "cells": [
    {
      "cell_type": "markdown",
      "metadata": {
        "id": "view-in-github",
        "colab_type": "text"
      },
      "source": [
        "<a href=\"https://colab.research.google.com/github/Rhonan2/CPE-21A-CPE-1-1/blob/main/Expression_and_Operation.ipynb\" target=\"_parent\"><img src=\"https://colab.research.google.com/assets/colab-badge.svg\" alt=\"Open In Colab\"/></a>"
      ]
    },
    {
      "cell_type": "markdown",
      "metadata": {
        "id": "gpqiAhaah634"
      },
      "source": [
        "###Rhonan Richmond Bangay\n",
        "##BOOLEAN OPERATION"
      ]
    },
    {
      "cell_type": "code",
      "metadata": {
        "id": "s93S18fuf4Qh"
      },
      "source": [
        ""
      ],
      "execution_count": null,
      "outputs": []
    },
    {
      "cell_type": "code",
      "metadata": {
        "colab": {
          "base_uri": "https://localhost:8080/"
        },
        "id": "VHRlA6O1g-Wb",
        "outputId": "901680df-bb24-48ea-e89c-292638c40f6a"
      },
      "source": [
        "print(bool(1))\n",
        "print(bool(True))"
      ],
      "execution_count": 4,
      "outputs": [
        {
          "output_type": "stream",
          "name": "stdout",
          "text": [
            "True\n",
            "True\n"
          ]
        }
      ]
    },
    {
      "cell_type": "code",
      "metadata": {
        "colab": {
          "base_uri": "https://localhost:8080/"
        },
        "id": "vSMfq0yEh2sY",
        "outputId": "b5c31d17-1e97-4445-fb40-0e9819baca0c"
      },
      "source": [
        "def sum3 (a,b,c):\n",
        "    return a + b + c\n",
        "print (sum3(0,1,2))"
      ],
      "execution_count": 5,
      "outputs": [
        {
          "output_type": "stream",
          "name": "stdout",
          "text": [
            "3\n"
          ]
        }
      ]
    },
    {
      "cell_type": "code",
      "metadata": {
        "colab": {
          "base_uri": "https://localhost:8080/"
        },
        "id": "1JThTYm5j404",
        "outputId": "195a2163-3249-4c3d-8d48-7bfb8d788342"
      },
      "source": [
        "def wala(name):\n",
        "    if name[0] == \"R\":\n",
        "        print(\"Ang galing!!\")\n",
        "    else:\n",
        "        print(\"ayy mali!!!\")\n",
        "print(wala(\"Rhonan\"))"
      ],
      "execution_count": 25,
      "outputs": [
        {
          "output_type": "stream",
          "name": "stdout",
          "text": [
            "Ang galing!!\n",
            "None\n"
          ]
        }
      ]
    },
    {
      "cell_type": "code",
      "metadata": {
        "colab": {
          "base_uri": "https://localhost:8080/"
        },
        "id": "DRzxLEkJsYCJ",
        "outputId": "5b73af76-2e97-4093-f593-a64739b2892b"
      },
      "source": [
        "def wala(name):\n",
        "    if name[0] == \"R\":\n",
        "        return True\n",
        "    else:\n",
        "        return False\n",
        "print(wala(\"Richmond\"))"
      ],
      "execution_count": 54,
      "outputs": [
        {
          "output_type": "stream",
          "name": "stdout",
          "text": [
            "True\n"
          ]
        }
      ]
    },
    {
      "cell_type": "code",
      "metadata": {
        "colab": {
          "base_uri": "https://localhost:8080/"
        },
        "id": "yWpFzuoOirkc",
        "outputId": "8f607db6-884a-432c-fb82-45d17b809cc2"
      },
      "source": [
        "a = 6\n",
        "b = 7\n",
        "print(a==b)\n",
        "print(a!=a)"
      ],
      "execution_count": 11,
      "outputs": [
        {
          "output_type": "stream",
          "name": "stdout",
          "text": [
            "False\n",
            "False\n"
          ]
        }
      ]
    },
    {
      "cell_type": "code",
      "metadata": {
        "colab": {
          "base_uri": "https://localhost:8080/"
        },
        "id": "gX3j6yRokEgu",
        "outputId": "76246bb0-a5b6-428c-8edf-2f6cd673a734"
      },
      "source": [
        "print(10+5)\n",
        "print(10-5)\n",
        "print(10*5)\n",
        "print(10/5)\n",
        "print(10//3)\n",
        "print(10%3)"
      ],
      "execution_count": 24,
      "outputs": [
        {
          "output_type": "stream",
          "name": "stdout",
          "text": [
            "15\n",
            "5\n",
            "50\n",
            "2.0\n",
            "3\n",
            "1\n"
          ]
        }
      ]
    },
    {
      "cell_type": "code",
      "metadata": {
        "colab": {
          "base_uri": "https://localhost:8080/"
        },
        "id": "b8e6JW_Pm0Ah",
        "outputId": "20aee1a8-eb43-41fc-ce9b-47d77c97dcbd"
      },
      "source": [
        "a = 60 #0011 1100\n",
        "b = 13\n",
        "print(a&b)\n",
        "print(a|b)\n",
        "print(a<<1)"
      ],
      "execution_count": 63,
      "outputs": [
        {
          "output_type": "stream",
          "name": "stdout",
          "text": [
            "12\n",
            "61\n",
            "120\n"
          ]
        }
      ]
    },
    {
      "cell_type": "code",
      "metadata": {
        "colab": {
          "base_uri": "https://localhost:8080/"
        },
        "id": "Fqers6hfriiF",
        "outputId": "0fb6f13e-2153-4412-883e-4b7213d431fc"
      },
      "source": [
        "a+=2\n",
        "print(a)"
      ],
      "execution_count": 56,
      "outputs": [
        {
          "output_type": "stream",
          "name": "stdout",
          "text": [
            "62\n"
          ]
        }
      ]
    },
    {
      "cell_type": "code",
      "metadata": {
        "colab": {
          "base_uri": "https://localhost:8080/"
        },
        "id": "CTmN1mX9qTuq",
        "outputId": "101ad1d5-3c26-40de-9aae-67d4a99a7cbf"
      },
      "source": [
        "#identity operator\n",
        "print(a is b)\n",
        "print(a is not b)"
      ],
      "execution_count": 65,
      "outputs": [
        {
          "output_type": "stream",
          "name": "stdout",
          "text": [
            "False\n",
            "True\n"
          ]
        }
      ]
    },
    {
      "cell_type": "code",
      "metadata": {
        "colab": {
          "base_uri": "https://localhost:8080/"
        },
        "id": "Ng-OmL7Crwgi",
        "outputId": "3b8d4a78-e44b-4cff-9946-56afdada32d9"
      },
      "source": [
        "q = 60\n",
        "x = 13\n",
        "q+=2\n",
        "print(q)"
      ],
      "execution_count": 52,
      "outputs": [
        {
          "output_type": "stream",
          "name": "stdout",
          "text": [
            "62\n"
          ]
        }
      ]
    }
  ]
}