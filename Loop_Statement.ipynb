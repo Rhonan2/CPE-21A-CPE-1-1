{
  "nbformat": 4,
  "nbformat_minor": 0,
  "metadata": {
    "colab": {
      "name": "Loop Statement.ipynb",
      "provenance": [],
      "authorship_tag": "ABX9TyNZ46k8KeSPoufTRTbVmAeX",
      "include_colab_link": true
    },
    "kernelspec": {
      "name": "python3",
      "display_name": "Python 3"
    },
    "language_info": {
      "name": "python"
    }
  },
  "cells": [
    {
      "cell_type": "markdown",
      "metadata": {
        "id": "view-in-github",
        "colab_type": "text"
      },
      "source": [
        "<a href=\"https://colab.research.google.com/github/Rhonan2/CPE-21A-CPE-1-1/blob/main/Loop_Statement.ipynb\" target=\"_parent\"><img src=\"https://colab.research.google.com/assets/colab-badge.svg\" alt=\"Open In Colab\"/></a>"
      ]
    },
    {
      "cell_type": "markdown",
      "source": [
        "##For Loop Statement"
      ],
      "metadata": {
        "id": "g32SXxd4rYz1"
      }
    },
    {
      "cell_type": "code",
      "execution_count": 5,
      "metadata": {
        "colab": {
          "base_uri": "https://localhost:8080/"
        },
        "id": "OTXVOCCjpgVF",
        "outputId": "4113cef6-1f3c-40dc-c32a-2b3630715ce2"
      },
      "outputs": [
        {
          "output_type": "stream",
          "name": "stdout",
          "text": [
            "Sunday\n",
            "Monday\n",
            "Tuesday\n",
            "wednesday\n",
            "Thursday\n",
            "Friday\n",
            "Saturday\n"
          ]
        }
      ],
      "source": [
        "week =  [\"Sunday\",\"Monday\",\"Tuesday\",\"wednesday\",\"Thursday\",\"Friday\",\"Saturday\"]\n",
        "for w in week:\n",
        "  print(w)"
      ]
    },
    {
      "cell_type": "markdown",
      "source": [
        "The Break Statement"
      ],
      "metadata": {
        "id": "5KTLJLHGvSe0"
      }
    },
    {
      "cell_type": "code",
      "source": [
        "#Break Statement\n",
        "week =  [\"Sunday\",\"Monday\",\"Tuesday\",\"wednesday\",\"Thursday\",\"Friday\",\"Saturday\"]\n",
        "for w in week:\n",
        "  print(w)\n",
        "  if w== \"Thursday\":\n",
        "    break"
      ],
      "metadata": {
        "colab": {
          "base_uri": "https://localhost:8080/"
        },
        "id": "01CC3V-IsrVk",
        "outputId": "713d9a0e-b2ed-4ba2-a82d-7dbb2cdf7a13"
      },
      "execution_count": 6,
      "outputs": [
        {
          "output_type": "stream",
          "name": "stdout",
          "text": [
            "Sunday\n",
            "Monday\n",
            "Tuesday\n",
            "wednesday\n",
            "Thursday\n"
          ]
        }
      ]
    },
    {
      "cell_type": "code",
      "source": [
        "#Break Statement\n",
        "week =  [\"Sunday\",\"Monday\",\"Tuesday\",\"wednesday\",\"Thursday\",\"Friday\",\"Saturday\"]\n",
        "for w in week:\n",
        "  if w== \"Thursday\":\n",
        "    break\n",
        "  print(w)"
      ],
      "metadata": {
        "colab": {
          "base_uri": "https://localhost:8080/"
        },
        "id": "xMGbX3zAuIwA",
        "outputId": "4e855c1a-c556-4e7f-8e3e-43e3040ff51f"
      },
      "execution_count": 8,
      "outputs": [
        {
          "output_type": "stream",
          "name": "stdout",
          "text": [
            "Sunday\n",
            "Monday\n",
            "Tuesday\n",
            "wednesday\n"
          ]
        }
      ]
    },
    {
      "cell_type": "markdown",
      "source": [
        "Looping through a String"
      ],
      "metadata": {
        "id": "lroiz1KfvIRE"
      }
    },
    {
      "cell_type": "code",
      "source": [
        "#Looping through a string\n",
        "for a in \"weeks\":\n",
        "  print(a)"
      ],
      "metadata": {
        "colab": {
          "base_uri": "https://localhost:8080/"
        },
        "id": "6jeHYduLu5hv",
        "outputId": "ff15f4a6-29f8-4b40-94c0-5d76f1206ae7"
      },
      "execution_count": 9,
      "outputs": [
        {
          "output_type": "stream",
          "name": "stdout",
          "text": [
            "w\n",
            "e\n",
            "e\n",
            "k\n",
            "s\n"
          ]
        }
      ]
    },
    {
      "cell_type": "markdown",
      "source": [
        "The Range Function"
      ],
      "metadata": {
        "id": "FxwPtmJevpyU"
      }
    },
    {
      "cell_type": "code",
      "source": [
        "print(\"Example 1\")\n",
        "for z in range(6):\n",
        "  print(z)\n",
        "print(\"\\n\")\n",
        "print(\"Example 2\")\n",
        "for z in range(2,6):\n",
        "  print(z)"
      ],
      "metadata": {
        "colab": {
          "base_uri": "https://localhost:8080/"
        },
        "id": "THkPmP50vWR8",
        "outputId": "559f6f17-1b8d-4265-b2da-f59598288de5"
      },
      "execution_count": 21,
      "outputs": [
        {
          "output_type": "stream",
          "name": "stdout",
          "text": [
            "Example 1\n",
            "0\n",
            "1\n",
            "2\n",
            "3\n",
            "4\n",
            "5\n",
            "\n",
            "\n",
            "Example 2\n",
            "2\n",
            "3\n",
            "4\n",
            "5\n"
          ]
        }
      ]
    },
    {
      "cell_type": "markdown",
      "source": [
        "Nested Loops"
      ],
      "metadata": {
        "id": "eriI0k1sxtG8"
      }
    },
    {
      "cell_type": "code",
      "source": [
        "adj = [\"red\",\"big\",\"tasty\"]\n",
        "fruits = [\"apple\",\"Banana\",\"cherry\"]\n",
        "for x in adj:\n",
        "  for y in fruits:\n",
        "    print(x,y)"
      ],
      "metadata": {
        "colab": {
          "base_uri": "https://localhost:8080/"
        },
        "id": "scRvDM4Bxr7c",
        "outputId": "56a0dbd3-e4d8-4442-e657-9fc292d310c3"
      },
      "execution_count": 22,
      "outputs": [
        {
          "output_type": "stream",
          "name": "stdout",
          "text": [
            "red apple\n",
            "red Banana\n",
            "red cherry\n",
            "big apple\n",
            "big Banana\n",
            "big cherry\n",
            "tasty apple\n",
            "tasty Banana\n",
            "tasty cherry\n"
          ]
        }
      ]
    },
    {
      "cell_type": "markdown",
      "source": [
        "##Python While loops"
      ],
      "metadata": {
        "id": "jhp6jkDNzBqc"
      }
    },
    {
      "cell_type": "code",
      "source": [
        "n=3\n",
        "i = 1\n",
        "while i <= n:\n",
        "  print(\"ako si rhonan\")\n",
        "  i = i+1"
      ],
      "metadata": {
        "colab": {
          "base_uri": "https://localhost:8080/"
        },
        "id": "7f6qOhqizDsB",
        "outputId": "8aa39a03-12ad-4187-e07e-a9614391b540"
      },
      "execution_count": 27,
      "outputs": [
        {
          "output_type": "stream",
          "name": "stdout",
          "text": [
            "ako si rhonan\n",
            "ako si rhonan\n",
            "ako si rhonan\n"
          ]
        }
      ]
    },
    {
      "cell_type": "code",
      "source": [
        "i = 1\n",
        "while i < 6:\n",
        "  print(i)\n",
        "  i = i+1"
      ],
      "metadata": {
        "colab": {
          "base_uri": "https://localhost:8080/"
        },
        "id": "V4nVVb7LzeZK",
        "outputId": "3a5ec2d9-8de1-46c9-e987-1581cbbeecbd"
      },
      "execution_count": 24,
      "outputs": [
        {
          "output_type": "stream",
          "name": "stdout",
          "text": [
            "1\n",
            "2\n",
            "3\n",
            "4\n",
            "5\n"
          ]
        }
      ]
    },
    {
      "cell_type": "code",
      "source": [
        "i = 1\n",
        "while i < 6:\n",
        "  print(i)\n",
        "  if i == 3:\n",
        "    break\n",
        "  i = i+1"
      ],
      "metadata": {
        "colab": {
          "base_uri": "https://localhost:8080/"
        },
        "id": "qwizqJpGz_J8",
        "outputId": "659a2fae-e69d-4928-d29d-3d74bc1a84e0"
      },
      "execution_count": 26,
      "outputs": [
        {
          "output_type": "stream",
          "name": "stdout",
          "text": [
            "1\n",
            "2\n",
            "3\n"
          ]
        }
      ]
    },
    {
      "cell_type": "code",
      "source": [
        "i = 1\n",
        "while i < 6:\n",
        "    i = i+1\n",
        "    if i == 3:\n",
        "      continue\n",
        "    print(i)"
      ],
      "metadata": {
        "colab": {
          "base_uri": "https://localhost:8080/"
        },
        "id": "eRcCW1dl2WDn",
        "outputId": "31401918-eaa7-4b61-c2f2-bde1c5e10f67"
      },
      "execution_count": 3,
      "outputs": [
        {
          "output_type": "stream",
          "name": "stdout",
          "text": [
            "2\n",
            "4\n",
            "5\n",
            "6\n"
          ]
        }
      ]
    },
    {
      "cell_type": "markdown",
      "source": [
        "The Else Statement"
      ],
      "metadata": {
        "id": "az54HeLv3Ihs"
      }
    },
    {
      "cell_type": "code",
      "source": [
        "i = 1\n",
        "while i < 6:\n",
        "  print(i)\n",
        "  i = i+1\n",
        "else:\n",
        "  print(\"i is no longer less than 6\")"
      ],
      "metadata": {
        "colab": {
          "base_uri": "https://localhost:8080/"
        },
        "id": "4p-2J7EO3Hph",
        "outputId": "19f86ad8-76e7-402a-a18d-c93c806e37e2"
      },
      "execution_count": 9,
      "outputs": [
        {
          "output_type": "stream",
          "name": "stdout",
          "text": [
            "1\n",
            "2\n",
            "3\n",
            "4\n",
            "5\n",
            "i is no longer less than 6\n"
          ]
        }
      ]
    },
    {
      "cell_type": "code",
      "source": [
        "#Application 1: Create a Python program that displays Hello 1 to Hello 10\n",
        "n=10\n",
        "i = 0\n",
        "while i <= n:\n",
        "  print(\"Hello\",i)\n",
        "  i = i+1"
      ],
      "metadata": {
        "colab": {
          "base_uri": "https://localhost:8080/"
        },
        "id": "31_4v_qh30g1",
        "outputId": "32843b45-e7ff-4221-9dda-249cd1cf5b91"
      },
      "execution_count": 15,
      "outputs": [
        {
          "output_type": "stream",
          "name": "stdout",
          "text": [
            "Hello 0\n",
            "Hello 1\n",
            "Hello 2\n",
            "Hello 3\n",
            "Hello 4\n",
            "Hello 5\n",
            "Hello 6\n",
            "Hello 7\n",
            "Hello 8\n",
            "Hello 9\n",
            "Hello 10\n"
          ]
        }
      ]
    },
    {
      "cell_type": "code",
      "source": [
        "#Application 2: Create a Python program that displays integers less than 10 but not less than 3\n",
        "i = 3\n",
        "while i < 10:\n",
        "  print(i)\n",
        "  i=i+1"
      ],
      "metadata": {
        "colab": {
          "base_uri": "https://localhost:8080/"
        },
        "id": "4Kr5VZzz5paw",
        "outputId": "cf2d0868-354a-4097-c71b-c1c8d9c7d9bf"
      },
      "execution_count": 16,
      "outputs": [
        {
          "output_type": "stream",
          "name": "stdout",
          "text": [
            "3\n",
            "4\n",
            "5\n",
            "6\n",
            "7\n",
            "8\n",
            "9\n"
          ]
        }
      ]
    }
  ]
}