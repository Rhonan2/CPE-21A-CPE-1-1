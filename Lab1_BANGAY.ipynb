{
  "nbformat": 4,
  "nbformat_minor": 0,
  "metadata": {
    "colab": {
      "name": "Lab1",
      "provenance": [],
      "authorship_tag": "ABX9TyOhygDYYyh0Drb6IweIulAX",
      "include_colab_link": true
    },
    "kernelspec": {
      "name": "python3",
      "display_name": "Python 3"
    },
    "language_info": {
      "name": "python"
    }
  },
  "cells": [
    {
      "cell_type": "markdown",
      "metadata": {
        "id": "view-in-github",
        "colab_type": "text"
      },
      "source": [
        "<a href=\"https://colab.research.google.com/github/Rhonan2/CPE-21A-CPE-1-1/blob/main/Lab1_BANGAY.ipynb\" target=\"_parent\"><img src=\"https://colab.research.google.com/assets/colab-badge.svg\" alt=\"Open In Colab\"/></a>"
      ]
    },
    {
      "cell_type": "markdown",
      "metadata": {
        "id": "1HqtvciqUWC8"
      },
      "source": [
        "#Week 8 Assessment_LABORATORY 1\n",
        "##Rhonan Richmond D. Bangay\n",
        "###BSCpE 1-1\n",
        "\n"
      ]
    },
    {
      "cell_type": "code",
      "metadata": {
        "colab": {
          "base_uri": "https://localhost:8080/"
        },
        "id": "KN3UNntSUCLx",
        "outputId": "207b5ffb-117c-4a77-d60e-ec2a4db91bb8"
      },
      "source": [
        "#Write a python program that displays “Welcome to Python Programming\"\n",
        "print(\"Welcome to Python Programming\")\n"
      ],
      "execution_count": 1,
      "outputs": [
        {
          "output_type": "stream",
          "name": "stdout",
          "text": [
            "Welcome to Python Programming\n"
          ]
        }
      ]
    },
    {
      "cell_type": "code",
      "metadata": {
        "colab": {
          "base_uri": "https://localhost:8080/"
        },
        "id": "LcKMpaoqbwCg",
        "outputId": "9838c568-0436-4fd1-f501-ff661c4c561f"
      },
      "source": [
        "#Write a python program that allows you to output your name, address, and age to an appropriate structure.\n",
        "name =\"RHONAN RICHMOND D. BANGAY\"\n",
        "age = \"20\"\n",
        "address = \"Blk 4, Lot 2 Villa Corazon Subd, Mataas na Lupa, Indang, Cavite\"\n",
        "print(\"Name: \" + name)\n",
        "print(\"Age: \" + age)\n",
        "print(\"Address: \" + address)\n"
      ],
      "execution_count": 27,
      "outputs": [
        {
          "output_type": "stream",
          "name": "stdout",
          "text": [
            "Name: RHONAN RICHMOND D. BANGAY\n",
            "Age: 20\n",
            "Address: Blk 4, Lot 2 Villa Corazon Subd, Mataas na Lupa, Indang, Cavite\n"
          ]
        }
      ]
    }
  ]
}