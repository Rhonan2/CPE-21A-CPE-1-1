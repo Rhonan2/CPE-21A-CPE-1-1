{
  "nbformat": 4,
  "nbformat_minor": 0,
  "metadata": {
    "colab": {
      "name": "Control Structure.ipynb",
      "provenance": [],
      "collapsed_sections": [],
      "authorship_tag": "ABX9TyN8j48QBaqJjQjYZjtrM4gc",
      "include_colab_link": true
    },
    "kernelspec": {
      "name": "python3",
      "display_name": "Python 3"
    },
    "language_info": {
      "name": "python"
    }
  },
  "cells": [
    {
      "cell_type": "markdown",
      "metadata": {
        "id": "view-in-github",
        "colab_type": "text"
      },
      "source": [
        "<a href=\"https://colab.research.google.com/github/Rhonan2/CPE-21A-CPE-1-1/blob/main/Control_Structure.ipynb\" target=\"_parent\"><img src=\"https://colab.research.google.com/assets/colab-badge.svg\" alt=\"Open In Colab\"/></a>"
      ]
    },
    {
      "cell_type": "markdown",
      "metadata": {
        "id": "O7NlKyw7nWE3"
      },
      "source": [
        "##If statement "
      ]
    },
    {
      "cell_type": "code",
      "metadata": {
        "colab": {
          "base_uri": "https://localhost:8080/"
        },
        "id": "T76O4X2Im84B",
        "outputId": "07653838-198b-42d2-ae14-d0702778c43c"
      },
      "source": [
        "a = 12\n",
        "b = 100\n",
        "if b > a:\n",
        "  print(\"b is greater than a\")"
      ],
      "execution_count": 12,
      "outputs": [
        {
          "output_type": "stream",
          "name": "stdout",
          "text": [
            "b is greater than a\n"
          ]
        }
      ]
    },
    {
      "cell_type": "code",
      "metadata": {
        "colab": {
          "base_uri": "https://localhost:8080/"
        },
        "id": "3aHGUm1UpAq1",
        "outputId": "e515671c-acd7-4122-8766-f63122e87abd"
      },
      "source": [
        "a = 14\n",
        "b = 14\n",
        "\n",
        "if b < a:\n",
        "    print(\"b is less than a\")\n",
        "elif a == b:\n",
        "    print(\"a is equal to b\")\n"
      ],
      "execution_count": 13,
      "outputs": [
        {
          "output_type": "stream",
          "name": "stdout",
          "text": [
            "a is equal to b\n"
          ]
        }
      ]
    },
    {
      "cell_type": "markdown",
      "metadata": {
        "id": "bbhRu9sTp28G"
      },
      "source": [
        "Else Statement"
      ]
    },
    {
      "cell_type": "code",
      "metadata": {
        "colab": {
          "base_uri": "https://localhost:8080/"
        },
        "id": "WK5vyMuBp5ld",
        "outputId": "d126ff07-b151-4a47-d6e8-02111a50b0f6"
      },
      "source": [
        "a = 15\n",
        "b = 14\n",
        "\n",
        "if b < a:\n",
        "    print(\"b is less than a\")\n",
        "elif a == b:\n",
        "    print(\"a is equal to b\")\n",
        "else:\n",
        "    print(\"a is greater than b\")\n",
        "\n"
      ],
      "execution_count": 17,
      "outputs": [
        {
          "output_type": "stream",
          "name": "stdout",
          "text": [
            "b is less than a\n"
          ]
        }
      ]
    },
    {
      "cell_type": "markdown",
      "metadata": {
        "id": "GHmZCc4tqnMR"
      },
      "source": [
        "##Short hand if statement"
      ]
    },
    {
      "cell_type": "code",
      "metadata": {
        "colab": {
          "base_uri": "https://localhost:8080/"
        },
        "id": "PNEerqYfqvfr",
        "outputId": "90472f99-f479-4eea-9838-fe035fb8bdfe"
      },
      "source": [
        "if a > b: print(\"a is greater than b\")"
      ],
      "execution_count": 19,
      "outputs": [
        {
          "output_type": "stream",
          "name": "stdout",
          "text": [
            "a is greater than b\n"
          ]
        }
      ]
    },
    {
      "cell_type": "markdown",
      "metadata": {
        "id": "ADfHzoAVrhYu"
      },
      "source": [
        "##Short hand if... Else statement"
      ]
    },
    {
      "cell_type": "code",
      "metadata": {
        "colab": {
          "base_uri": "https://localhost:8080/"
        },
        "id": "fHd_R190rm-V",
        "outputId": "0fe147c2-c260-4ec4-9755-888cde3b7e00"
      },
      "source": [
        "print(\"a is greater than b\") if a > b else print(\"b is greater than a\")"
      ],
      "execution_count": 20,
      "outputs": [
        {
          "output_type": "stream",
          "name": "stdout",
          "text": [
            "a is greater than b\n"
          ]
        }
      ]
    },
    {
      "cell_type": "markdown",
      "metadata": {
        "id": "QTQKz_VpuUVK"
      },
      "source": [
        "And Condition"
      ]
    },
    {
      "cell_type": "code",
      "metadata": {
        "colab": {
          "base_uri": "https://localhost:8080/"
        },
        "id": "DPd0TRKntUnb",
        "outputId": "1b1eedf2-dd77-4a5c-a71b-eab3100e45aa"
      },
      "source": [
        "a = 200\n",
        "b = 33\n",
        "c = 500\n",
        "if a > b and c > a:\n",
        "  print(\"Both condition are True\")"
      ],
      "execution_count": 21,
      "outputs": [
        {
          "output_type": "stream",
          "name": "stdout",
          "text": [
            "Both condition are True\n"
          ]
        }
      ]
    },
    {
      "cell_type": "code",
      "metadata": {
        "colab": {
          "base_uri": "https://localhost:8080/"
        },
        "id": "Imz3dygevJT0",
        "outputId": "6d5f56f5-bad0-4f10-b6d1-c60de214b995"
      },
      "source": [
        "a = 30\n",
        "b = 33\n",
        "if b > a and a < b:\n",
        "  print(\"Both conditions are true\")"
      ],
      "execution_count": 28,
      "outputs": [
        {
          "output_type": "stream",
          "name": "stdout",
          "text": [
            "Both conditions are true\n"
          ]
        }
      ]
    },
    {
      "cell_type": "code",
      "metadata": {
        "colab": {
          "base_uri": "https://localhost:8080/"
        },
        "id": "kvX1yMhAvejZ",
        "outputId": "66e4d55b-de74-4a32-df44-8a64030d0d2d"
      },
      "source": [
        "if b > a or a==b:\n",
        "  print(\"True\")\n",
        "elif b==b or a>b:\n",
        "  print(\"Tama lahat\")\n",
        "else:\n",
        "  print(\"Nothing to compare\")"
      ],
      "execution_count": 29,
      "outputs": [
        {
          "output_type": "stream",
          "name": "stdout",
          "text": [
            "True\n"
          ]
        }
      ]
    },
    {
      "cell_type": "markdown",
      "metadata": {
        "id": "joCaPSHYwrAF"
      },
      "source": [
        "Nested if"
      ]
    },
    {
      "cell_type": "code",
      "metadata": {
        "colab": {
          "base_uri": "https://localhost:8080/"
        },
        "id": "LbUMqOjkwqDR",
        "outputId": "3c48da03-3bb3-43de-b1b8-f268959eaf84"
      },
      "source": [
        "x = 41\n",
        "if x>10:\n",
        "  print(\"Above ten,\", end=\" \")\n",
        "  if x > 20:\n",
        "    print(\"and also above 20\")\n",
        "  else:\n",
        "    print(\"not above 20\")\n"
      ],
      "execution_count": 34,
      "outputs": [
        {
          "output_type": "stream",
          "name": "stdout",
          "text": [
            "Above ten, and also above 20\n"
          ]
        }
      ]
    },
    {
      "cell_type": "markdown",
      "metadata": {
        "id": "y_2CuMjdyKaH"
      },
      "source": [
        "Application of if... Else Statement"
      ]
    },
    {
      "cell_type": "code",
      "metadata": {
        "colab": {
          "base_uri": "https://localhost:8080/"
        },
        "id": "TbD0Jwx-w9Bj",
        "outputId": "fae80b5d-cb94-465c-a3a0-a29db946c680"
      },
      "source": [
        "#example 1 \n",
        "age = int(input(\"Input your age: \"))\n",
        "\n",
        "if age >= 18:\n",
        "  print(\"You are qualified to vote!\")\n",
        "else:\n",
        "  print(\"You are not qualified to Vote!\")"
      ],
      "execution_count": 37,
      "outputs": [
        {
          "output_type": "stream",
          "name": "stdout",
          "text": [
            "Input your age: 19\n",
            "You are qualified to vote!\n"
          ]
        }
      ]
    },
    {
      "cell_type": "code",
      "metadata": {
        "colab": {
          "base_uri": "https://localhost:8080/"
        },
        "id": "nf52WsdJzfg_",
        "outputId": "54940762-f192-48fb-90c3-1b204be93b25"
      },
      "source": [
        "#example 2 to check whether zero, negative or positive number\n",
        "number = int(input(\"Enter the number: \"))\n",
        "\n",
        "if number ==0:\n",
        "  print(\"Zero\")\n",
        "elif number >0:\n",
        "  print(\"Positive\")\n",
        "else:\n",
        "  print(\"Negative\")"
      ],
      "execution_count": 38,
      "outputs": [
        {
          "output_type": "stream",
          "name": "stdout",
          "text": [
            "Enter the number: 12\n",
            "Positive\n"
          ]
        }
      ]
    },
    {
      "cell_type": "code",
      "metadata": {
        "colab": {
          "base_uri": "https://localhost:8080/"
        },
        "id": "4SzlGwlC0cWE",
        "outputId": "25b45c14-2169-4543-8530-b224df633bf2"
      },
      "source": [
        "#Example 3: Determine if your grade is passed ot failed\n",
        "grade = int(input(\"Input your Grade: \"))\n",
        "\n",
        "if grade >= 75:\n",
        "  print(\"Passed\")\n",
        "elif grade == 74:\n",
        "  print(\"Remedial\")\n",
        "elif grade < 74:\n",
        "  print(\"Failed\")"
      ],
      "execution_count": 41,
      "outputs": [
        {
          "output_type": "stream",
          "name": "stdout",
          "text": [
            "Input your Grade: 75\n",
            "Passed\n"
          ]
        }
      ]
    }
  ]
}