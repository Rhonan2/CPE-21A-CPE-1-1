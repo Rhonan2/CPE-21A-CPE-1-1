{
  "nbformat": 4,
  "nbformat_minor": 0,
  "metadata": {
    "colab": {
      "name": "DEMO1_Bangay.ipynb",
      "provenance": [],
      "authorship_tag": "ABX9TyOQyl+cyzyt6tgTvbIuDvRd",
      "include_colab_link": true
    },
    "kernelspec": {
      "name": "python3",
      "display_name": "Python 3"
    },
    "language_info": {
      "name": "python"
    }
  },
  "cells": [
    {
      "cell_type": "markdown",
      "metadata": {
        "id": "view-in-github",
        "colab_type": "text"
      },
      "source": [
        "<a href=\"https://colab.research.google.com/github/Rhonan2/CPE-21A-CPE-1-1/blob/main/DEMO1_Bangay.ipynb\" target=\"_parent\"><img src=\"https://colab.research.google.com/assets/colab-badge.svg\" alt=\"Open In Colab\"/></a>"
      ]
    },
    {
      "cell_type": "markdown",
      "metadata": {
        "id": "NobeRDBEj8SN"
      },
      "source": [
        "#PHYTHON PROGRAMMING LANGUAGE"
      ]
    },
    {
      "cell_type": "markdown",
      "metadata": {
        "id": "GJUsMhQDktkF"
      },
      "source": [
        "##RHONAN RICHMOND D. BANGAY\n",
        "##BSCpE 1-1"
      ]
    },
    {
      "cell_type": "code",
      "metadata": {
        "colab": {
          "base_uri": "https://localhost:8080/"
        },
        "id": "JYOTKX0NjLBF",
        "outputId": "883e23c0-2cab-4a40-9e07-ff78e1d915e4"
      },
      "source": [
        "x = 'Enjoying'\n",
        "print('Programming is '+ x)"
      ],
      "execution_count": 5,
      "outputs": [
        {
          "output_type": "stream",
          "name": "stdout",
          "text": [
            "Programming is Enjoying\n"
          ]
        }
      ]
    },
    {
      "cell_type": "code",
      "metadata": {
        "colab": {
          "base_uri": "https://localhost:8080/"
        },
        "id": "R_CsZux5jj9h",
        "outputId": "7d5ddddd-ea6a-4cd3-d92f-9da5ff6ee20d"
      },
      "source": [
        "a = 'Pogi'\n",
        "print(a + ' si Rhonan')"
      ],
      "execution_count": 6,
      "outputs": [
        {
          "output_type": "stream",
          "name": "stdout",
          "text": [
            "Pogi si Rhonan\n"
          ]
        }
      ]
    },
    {
      "cell_type": "code",
      "metadata": {
        "colab": {
          "base_uri": "https://localhost:8080/"
        },
        "id": "3BaQ5grXYGmm",
        "outputId": "ab7c783f-c07b-472f-aa66-28743c2a271f"
      },
      "source": [
        "b = float(4)\n",
        "print(b)"
      ],
      "execution_count": 1,
      "outputs": [
        {
          "output_type": "stream",
          "name": "stdout",
          "text": [
            "4.0\n"
          ]
        }
      ]
    },
    {
      "cell_type": "code",
      "metadata": {
        "colab": {
          "base_uri": "https://localhost:8080/"
        },
        "id": "ZfxmcvKQitJn",
        "outputId": "d7a385f5-aa1a-4aa1-ec02-53f8e62f6b4b"
      },
      "source": [
        "a,b,c = 0,1,2\n",
        "print(a)\n",
        "print(b)\n",
        "print(c)"
      ],
      "execution_count": 2,
      "outputs": [
        {
          "output_type": "stream",
          "name": "stdout",
          "text": [
            "0\n",
            "1\n",
            "2\n"
          ]
        }
      ]
    },
    {
      "cell_type": "code",
      "metadata": {
        "colab": {
          "base_uri": "https://localhost:8080/"
        },
        "id": "ue1-ca2ri3F7",
        "outputId": "a0d0f208-98df-4be7-da51-0d9e2740c532"
      },
      "source": [
        "a = 4\n",
        "print(type(a))"
      ],
      "execution_count": 3,
      "outputs": [
        {
          "output_type": "stream",
          "name": "stdout",
          "text": [
            "<class 'int'>\n"
          ]
        }
      ]
    },
    {
      "cell_type": "code",
      "metadata": {
        "colab": {
          "base_uri": "https://localhost:8080/"
        },
        "id": "w4DTECEai_51",
        "outputId": "e34a8916-5c32-4ab5-b082-ad6cac3f68fe"
      },
      "source": [
        "a = 4.0\n",
        "print(type(a))"
      ],
      "execution_count": 4,
      "outputs": [
        {
          "output_type": "stream",
          "name": "stdout",
          "text": [
            "<class 'float'>\n"
          ]
        }
      ]
    },
    {
      "cell_type": "code",
      "metadata": {
        "colab": {
          "base_uri": "https://localhost:8080/"
        },
        "id": "q8_jfiimkbVd",
        "outputId": "fa6c4bd6-6289-4e9a-ac3d-1649ed894c10"
      },
      "source": [
        "B = int(4)\n",
        "print(B)"
      ],
      "execution_count": 8,
      "outputs": [
        {
          "output_type": "stream",
          "name": "stdout",
          "text": [
            "4\n"
          ]
        }
      ]
    }
  ]
}