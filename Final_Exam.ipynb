{
  "nbformat": 4,
  "nbformat_minor": 0,
  "metadata": {
    "colab": {
      "name": "Final Exam.ipynb",
      "provenance": [],
      "collapsed_sections": [],
      "authorship_tag": "ABX9TyPVtsP6kB914oIaAwO3ZDuF",
      "include_colab_link": true
    },
    "kernelspec": {
      "name": "python3",
      "display_name": "Python 3"
    },
    "language_info": {
      "name": "python"
    }
  },
  "cells": [
    {
      "cell_type": "markdown",
      "metadata": {
        "id": "view-in-github",
        "colab_type": "text"
      },
      "source": [
        "<a href=\"https://colab.research.google.com/github/Rhonan2/CPE-21A-CPE-1-1/blob/main/Final_Exam.ipynb\" target=\"_parent\"><img src=\"https://colab.research.google.com/assets/colab-badge.svg\" alt=\"Open In Colab\"/></a>"
      ]
    },
    {
      "cell_type": "code",
      "source": [
        "#PROBLEM STATEMENT 1. \n",
        "#Create a Python program that will produce an output of sum of 10 numbers less than 5 using FOR LOOP statement.\n",
        "sum = 0\n",
        "print(\"List of 10 numbers: \", end = \" \") \n",
        "for num in range(-5,5):\n",
        "  print(num, end=\" \")\n",
        "  sum = sum + num\n",
        "  \n",
        "print()\n",
        "print(\"sum of 10 numbers less than 5 is: \", end = \" \")\n",
        "print(sum)"
      ],
      "metadata": {
        "colab": {
          "base_uri": "https://localhost:8080/"
        },
        "id": "pUTNBV6T0y8r",
        "outputId": "26d7eee2-288a-440e-c1f9-66f8e3d13324"
      },
      "execution_count": 29,
      "outputs": [
        {
          "output_type": "stream",
          "name": "stdout",
          "text": [
            "List of 10 numbers:  -5 -4 -3 -2 -1 0 1 2 3 4 \n",
            "sum of 10 numbers less than 5 is:  -5\n"
          ]
        }
      ]
    },
    {
      "cell_type": "code",
      "source": [
        "#PROBLEM STATEMENT 2. \n",
        "#Create a Python program that will produce accept five numbers and determine \n",
        "#the sum of first and last number among the five numbers entered using WHILE LOOP\n",
        "five_numbers = []\n",
        "sum = 0 \n",
        "while True:\n",
        "  n = 6\n",
        "  for n in range(n):\n",
        "    if n >0:\n",
        "      nums = int(input(\"Input Number: \"))\n",
        "      five_numbers.append(nums)\n",
        "      a = five_numbers[0]\n",
        "      sum = a +  nums\n",
        "  else:\n",
        "    break\n",
        "print(\"List:\", five_numbers)\n",
        "print(\"Sum of fist and last number is:\", sum)\n"
      ],
      "metadata": {
        "id": "0pvADfgo5ttM",
        "colab": {
          "base_uri": "https://localhost:8080/"
        },
        "outputId": "f56cadd1-1c9b-4550-ce52-daa2fef26877"
      },
      "execution_count": 56,
      "outputs": [
        {
          "output_type": "stream",
          "name": "stdout",
          "text": [
            "Input Number: 1\n",
            "Input Number: 2\n",
            "Input Number: 3\n",
            "Input Number: 4\n",
            "Input Number: 29\n",
            "List: [1, 2, 3, 4, 29]\n",
            "Sum of fist and last number is: 30\n"
          ]
        }
      ]
    },
    {
      "cell_type": "code",
      "source": [
        "#PROBLEM STATEMENT 3. \n",
        "#Create a Python program to calculate student grades. It accepts a numerical grade \n",
        "#as input and it will display the character grade as output based on the given scale: \n",
        "#(Use Nested-IF-Else statement)\n",
        "grade_num = float(int(input(\"Enter your grade: \")))\n",
        "if grade_num >=0 and grade_num <=100:\n",
        "  if grade_num >=90:\n",
        "    print(\"Your Grade remarks is: A\")\n",
        "  elif grade_num >= 80:\n",
        "    print(\"Your Grade remarks is: B\")\n",
        "  elif grade_num >= 70:\n",
        "    print(\"Your Grade remarks is: C\")\n",
        "  elif grade_num >= 60:\n",
        "    print(\"Your Grade remarks is: D\")\n",
        "  elif grade_num < 60:\n",
        "    print(\"Your Grade remarks is: F\")\n",
        "else:\n",
        "  print(\"Invalid Grade\")"
      ],
      "metadata": {
        "colab": {
          "base_uri": "https://localhost:8080/"
        },
        "id": "NAwsEqmoXogG",
        "outputId": "0790475d-005b-4897-9256-d31918e23aef"
      },
      "execution_count": 55,
      "outputs": [
        {
          "output_type": "stream",
          "name": "stdout",
          "text": [
            "Enter your grade: 92\n",
            "Your Grade remarks is: A\n"
          ]
        }
      ]
    }
  ]
}